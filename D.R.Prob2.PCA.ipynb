{
 "cells": [
  {
   "cell_type": "code",
   "execution_count": 1,
   "metadata": {},
   "outputs": [],
   "source": [
    "import pandas as pd\n",
    "import numpy as np\n",
    "import matplotlib.pyplot as plt\n",
    "from sklearn.decomposition import PCA"
   ]
  },
  {
   "cell_type": "code",
   "execution_count": 2,
   "metadata": {},
   "outputs": [],
   "source": [
    "df = pd.read_csv('/home/ataur/Downloads/Datasets_PCA_Problem Statement/heart disease.csv')"
   ]
  },
  {
   "cell_type": "code",
   "execution_count": 3,
   "metadata": {},
   "outputs": [
    {
     "data": {
      "text/html": [
       "<div>\n",
       "<style scoped>\n",
       "    .dataframe tbody tr th:only-of-type {\n",
       "        vertical-align: middle;\n",
       "    }\n",
       "\n",
       "    .dataframe tbody tr th {\n",
       "        vertical-align: top;\n",
       "    }\n",
       "\n",
       "    .dataframe thead th {\n",
       "        text-align: right;\n",
       "    }\n",
       "</style>\n",
       "<table border=\"1\" class=\"dataframe\">\n",
       "  <thead>\n",
       "    <tr style=\"text-align: right;\">\n",
       "      <th></th>\n",
       "      <th>age</th>\n",
       "      <th>sex</th>\n",
       "      <th>cp</th>\n",
       "      <th>trestbps</th>\n",
       "      <th>chol</th>\n",
       "      <th>fbs</th>\n",
       "      <th>restecg</th>\n",
       "      <th>thalach</th>\n",
       "      <th>exang</th>\n",
       "      <th>oldpeak</th>\n",
       "      <th>slope</th>\n",
       "      <th>ca</th>\n",
       "      <th>thal</th>\n",
       "      <th>target</th>\n",
       "    </tr>\n",
       "  </thead>\n",
       "  <tbody>\n",
       "    <tr>\n",
       "      <th>0</th>\n",
       "      <td>63</td>\n",
       "      <td>1</td>\n",
       "      <td>3</td>\n",
       "      <td>145</td>\n",
       "      <td>233</td>\n",
       "      <td>1</td>\n",
       "      <td>0</td>\n",
       "      <td>150</td>\n",
       "      <td>0</td>\n",
       "      <td>2.3</td>\n",
       "      <td>0</td>\n",
       "      <td>0</td>\n",
       "      <td>1</td>\n",
       "      <td>1</td>\n",
       "    </tr>\n",
       "    <tr>\n",
       "      <th>1</th>\n",
       "      <td>37</td>\n",
       "      <td>1</td>\n",
       "      <td>2</td>\n",
       "      <td>130</td>\n",
       "      <td>250</td>\n",
       "      <td>0</td>\n",
       "      <td>1</td>\n",
       "      <td>187</td>\n",
       "      <td>0</td>\n",
       "      <td>3.5</td>\n",
       "      <td>0</td>\n",
       "      <td>0</td>\n",
       "      <td>2</td>\n",
       "      <td>1</td>\n",
       "    </tr>\n",
       "    <tr>\n",
       "      <th>2</th>\n",
       "      <td>41</td>\n",
       "      <td>0</td>\n",
       "      <td>1</td>\n",
       "      <td>130</td>\n",
       "      <td>204</td>\n",
       "      <td>0</td>\n",
       "      <td>0</td>\n",
       "      <td>172</td>\n",
       "      <td>0</td>\n",
       "      <td>1.4</td>\n",
       "      <td>2</td>\n",
       "      <td>0</td>\n",
       "      <td>2</td>\n",
       "      <td>1</td>\n",
       "    </tr>\n",
       "    <tr>\n",
       "      <th>3</th>\n",
       "      <td>56</td>\n",
       "      <td>1</td>\n",
       "      <td>1</td>\n",
       "      <td>120</td>\n",
       "      <td>236</td>\n",
       "      <td>0</td>\n",
       "      <td>1</td>\n",
       "      <td>178</td>\n",
       "      <td>0</td>\n",
       "      <td>0.8</td>\n",
       "      <td>2</td>\n",
       "      <td>0</td>\n",
       "      <td>2</td>\n",
       "      <td>1</td>\n",
       "    </tr>\n",
       "    <tr>\n",
       "      <th>4</th>\n",
       "      <td>57</td>\n",
       "      <td>0</td>\n",
       "      <td>0</td>\n",
       "      <td>120</td>\n",
       "      <td>354</td>\n",
       "      <td>0</td>\n",
       "      <td>1</td>\n",
       "      <td>163</td>\n",
       "      <td>1</td>\n",
       "      <td>0.6</td>\n",
       "      <td>2</td>\n",
       "      <td>0</td>\n",
       "      <td>2</td>\n",
       "      <td>1</td>\n",
       "    </tr>\n",
       "  </tbody>\n",
       "</table>\n",
       "</div>"
      ],
      "text/plain": [
       "   age  sex  cp  trestbps  chol  fbs  restecg  thalach  exang  oldpeak  slope  \\\n",
       "0   63    1   3       145   233    1        0      150      0      2.3      0   \n",
       "1   37    1   2       130   250    0        1      187      0      3.5      0   \n",
       "2   41    0   1       130   204    0        0      172      0      1.4      2   \n",
       "3   56    1   1       120   236    0        1      178      0      0.8      2   \n",
       "4   57    0   0       120   354    0        1      163      1      0.6      2   \n",
       "\n",
       "   ca  thal  target  \n",
       "0   0     1       1  \n",
       "1   0     2       1  \n",
       "2   0     2       1  \n",
       "3   0     2       1  \n",
       "4   0     2       1  "
      ]
     },
     "execution_count": 3,
     "metadata": {},
     "output_type": "execute_result"
    }
   ],
   "source": [
    "df.head()"
   ]
  },
  {
   "cell_type": "code",
   "execution_count": 4,
   "metadata": {},
   "outputs": [
    {
     "name": "stdout",
     "output_type": "stream",
     "text": [
      "<class 'pandas.core.frame.DataFrame'>\n",
      "RangeIndex: 303 entries, 0 to 302\n",
      "Data columns (total 14 columns):\n",
      " #   Column    Non-Null Count  Dtype  \n",
      "---  ------    --------------  -----  \n",
      " 0   age       303 non-null    int64  \n",
      " 1   sex       303 non-null    int64  \n",
      " 2   cp        303 non-null    int64  \n",
      " 3   trestbps  303 non-null    int64  \n",
      " 4   chol      303 non-null    int64  \n",
      " 5   fbs       303 non-null    int64  \n",
      " 6   restecg   303 non-null    int64  \n",
      " 7   thalach   303 non-null    int64  \n",
      " 8   exang     303 non-null    int64  \n",
      " 9   oldpeak   303 non-null    float64\n",
      " 10  slope     303 non-null    int64  \n",
      " 11  ca        303 non-null    int64  \n",
      " 12  thal      303 non-null    int64  \n",
      " 13  target    303 non-null    int64  \n",
      "dtypes: float64(1), int64(13)\n",
      "memory usage: 33.3 KB\n"
     ]
    }
   ],
   "source": [
    "df.info()"
   ]
  },
  {
   "cell_type": "code",
   "execution_count": 5,
   "metadata": {},
   "outputs": [
    {
     "data": {
      "text/plain": [
       "age         0\n",
       "sex         0\n",
       "cp          0\n",
       "trestbps    0\n",
       "chol        0\n",
       "fbs         0\n",
       "restecg     0\n",
       "thalach     0\n",
       "exang       0\n",
       "oldpeak     0\n",
       "slope       0\n",
       "ca          0\n",
       "thal        0\n",
       "target      0\n",
       "dtype: int64"
      ]
     },
     "execution_count": 5,
     "metadata": {},
     "output_type": "execute_result"
    }
   ],
   "source": [
    "df.isnull().sum()"
   ]
  },
  {
   "cell_type": "code",
   "execution_count": 6,
   "metadata": {},
   "outputs": [
    {
     "data": {
      "text/plain": [
       "1"
      ]
     },
     "execution_count": 6,
     "metadata": {},
     "output_type": "execute_result"
    }
   ],
   "source": [
    "df.duplicated().sum()"
   ]
  },
  {
   "cell_type": "code",
   "execution_count": 11,
   "metadata": {},
   "outputs": [],
   "source": [
    "df = df.drop_duplicates()"
   ]
  },
  {
   "cell_type": "code",
   "execution_count": 12,
   "metadata": {},
   "outputs": [
    {
     "data": {
      "text/plain": [
       "0"
      ]
     },
     "execution_count": 12,
     "metadata": {},
     "output_type": "execute_result"
    }
   ],
   "source": [
    "df.duplicated().sum()"
   ]
  },
  {
   "cell_type": "code",
   "execution_count": 14,
   "metadata": {},
   "outputs": [
    {
     "data": {
      "text/html": [
       "<div>\n",
       "<style scoped>\n",
       "    .dataframe tbody tr th:only-of-type {\n",
       "        vertical-align: middle;\n",
       "    }\n",
       "\n",
       "    .dataframe tbody tr th {\n",
       "        vertical-align: top;\n",
       "    }\n",
       "\n",
       "    .dataframe thead th {\n",
       "        text-align: right;\n",
       "    }\n",
       "</style>\n",
       "<table border=\"1\" class=\"dataframe\">\n",
       "  <thead>\n",
       "    <tr style=\"text-align: right;\">\n",
       "      <th></th>\n",
       "      <th>age</th>\n",
       "      <th>sex</th>\n",
       "      <th>cp</th>\n",
       "      <th>trestbps</th>\n",
       "      <th>chol</th>\n",
       "      <th>fbs</th>\n",
       "      <th>restecg</th>\n",
       "      <th>thalach</th>\n",
       "      <th>exang</th>\n",
       "      <th>oldpeak</th>\n",
       "      <th>slope</th>\n",
       "      <th>ca</th>\n",
       "      <th>thal</th>\n",
       "      <th>target</th>\n",
       "    </tr>\n",
       "  </thead>\n",
       "  <tbody>\n",
       "    <tr>\n",
       "      <th>count</th>\n",
       "      <td>302.00000</td>\n",
       "      <td>302.000000</td>\n",
       "      <td>302.000000</td>\n",
       "      <td>302.000000</td>\n",
       "      <td>302.000000</td>\n",
       "      <td>302.000000</td>\n",
       "      <td>302.000000</td>\n",
       "      <td>302.000000</td>\n",
       "      <td>302.000000</td>\n",
       "      <td>302.000000</td>\n",
       "      <td>302.000000</td>\n",
       "      <td>302.000000</td>\n",
       "      <td>302.000000</td>\n",
       "      <td>302.000000</td>\n",
       "    </tr>\n",
       "    <tr>\n",
       "      <th>mean</th>\n",
       "      <td>54.42053</td>\n",
       "      <td>0.682119</td>\n",
       "      <td>0.963576</td>\n",
       "      <td>131.602649</td>\n",
       "      <td>246.500000</td>\n",
       "      <td>0.149007</td>\n",
       "      <td>0.526490</td>\n",
       "      <td>149.569536</td>\n",
       "      <td>0.327815</td>\n",
       "      <td>1.043046</td>\n",
       "      <td>1.397351</td>\n",
       "      <td>0.718543</td>\n",
       "      <td>2.314570</td>\n",
       "      <td>0.543046</td>\n",
       "    </tr>\n",
       "    <tr>\n",
       "      <th>std</th>\n",
       "      <td>9.04797</td>\n",
       "      <td>0.466426</td>\n",
       "      <td>1.032044</td>\n",
       "      <td>17.563394</td>\n",
       "      <td>51.753489</td>\n",
       "      <td>0.356686</td>\n",
       "      <td>0.526027</td>\n",
       "      <td>22.903527</td>\n",
       "      <td>0.470196</td>\n",
       "      <td>1.161452</td>\n",
       "      <td>0.616274</td>\n",
       "      <td>1.006748</td>\n",
       "      <td>0.613026</td>\n",
       "      <td>0.498970</td>\n",
       "    </tr>\n",
       "    <tr>\n",
       "      <th>min</th>\n",
       "      <td>29.00000</td>\n",
       "      <td>0.000000</td>\n",
       "      <td>0.000000</td>\n",
       "      <td>94.000000</td>\n",
       "      <td>126.000000</td>\n",
       "      <td>0.000000</td>\n",
       "      <td>0.000000</td>\n",
       "      <td>71.000000</td>\n",
       "      <td>0.000000</td>\n",
       "      <td>0.000000</td>\n",
       "      <td>0.000000</td>\n",
       "      <td>0.000000</td>\n",
       "      <td>0.000000</td>\n",
       "      <td>0.000000</td>\n",
       "    </tr>\n",
       "    <tr>\n",
       "      <th>25%</th>\n",
       "      <td>48.00000</td>\n",
       "      <td>0.000000</td>\n",
       "      <td>0.000000</td>\n",
       "      <td>120.000000</td>\n",
       "      <td>211.000000</td>\n",
       "      <td>0.000000</td>\n",
       "      <td>0.000000</td>\n",
       "      <td>133.250000</td>\n",
       "      <td>0.000000</td>\n",
       "      <td>0.000000</td>\n",
       "      <td>1.000000</td>\n",
       "      <td>0.000000</td>\n",
       "      <td>2.000000</td>\n",
       "      <td>0.000000</td>\n",
       "    </tr>\n",
       "    <tr>\n",
       "      <th>50%</th>\n",
       "      <td>55.50000</td>\n",
       "      <td>1.000000</td>\n",
       "      <td>1.000000</td>\n",
       "      <td>130.000000</td>\n",
       "      <td>240.500000</td>\n",
       "      <td>0.000000</td>\n",
       "      <td>1.000000</td>\n",
       "      <td>152.500000</td>\n",
       "      <td>0.000000</td>\n",
       "      <td>0.800000</td>\n",
       "      <td>1.000000</td>\n",
       "      <td>0.000000</td>\n",
       "      <td>2.000000</td>\n",
       "      <td>1.000000</td>\n",
       "    </tr>\n",
       "    <tr>\n",
       "      <th>75%</th>\n",
       "      <td>61.00000</td>\n",
       "      <td>1.000000</td>\n",
       "      <td>2.000000</td>\n",
       "      <td>140.000000</td>\n",
       "      <td>274.750000</td>\n",
       "      <td>0.000000</td>\n",
       "      <td>1.000000</td>\n",
       "      <td>166.000000</td>\n",
       "      <td>1.000000</td>\n",
       "      <td>1.600000</td>\n",
       "      <td>2.000000</td>\n",
       "      <td>1.000000</td>\n",
       "      <td>3.000000</td>\n",
       "      <td>1.000000</td>\n",
       "    </tr>\n",
       "    <tr>\n",
       "      <th>max</th>\n",
       "      <td>77.00000</td>\n",
       "      <td>1.000000</td>\n",
       "      <td>3.000000</td>\n",
       "      <td>200.000000</td>\n",
       "      <td>564.000000</td>\n",
       "      <td>1.000000</td>\n",
       "      <td>2.000000</td>\n",
       "      <td>202.000000</td>\n",
       "      <td>1.000000</td>\n",
       "      <td>6.200000</td>\n",
       "      <td>2.000000</td>\n",
       "      <td>4.000000</td>\n",
       "      <td>3.000000</td>\n",
       "      <td>1.000000</td>\n",
       "    </tr>\n",
       "  </tbody>\n",
       "</table>\n",
       "</div>"
      ],
      "text/plain": [
       "             age         sex          cp    trestbps        chol         fbs  \\\n",
       "count  302.00000  302.000000  302.000000  302.000000  302.000000  302.000000   \n",
       "mean    54.42053    0.682119    0.963576  131.602649  246.500000    0.149007   \n",
       "std      9.04797    0.466426    1.032044   17.563394   51.753489    0.356686   \n",
       "min     29.00000    0.000000    0.000000   94.000000  126.000000    0.000000   \n",
       "25%     48.00000    0.000000    0.000000  120.000000  211.000000    0.000000   \n",
       "50%     55.50000    1.000000    1.000000  130.000000  240.500000    0.000000   \n",
       "75%     61.00000    1.000000    2.000000  140.000000  274.750000    0.000000   \n",
       "max     77.00000    1.000000    3.000000  200.000000  564.000000    1.000000   \n",
       "\n",
       "          restecg     thalach       exang     oldpeak       slope          ca  \\\n",
       "count  302.000000  302.000000  302.000000  302.000000  302.000000  302.000000   \n",
       "mean     0.526490  149.569536    0.327815    1.043046    1.397351    0.718543   \n",
       "std      0.526027   22.903527    0.470196    1.161452    0.616274    1.006748   \n",
       "min      0.000000   71.000000    0.000000    0.000000    0.000000    0.000000   \n",
       "25%      0.000000  133.250000    0.000000    0.000000    1.000000    0.000000   \n",
       "50%      1.000000  152.500000    0.000000    0.800000    1.000000    0.000000   \n",
       "75%      1.000000  166.000000    1.000000    1.600000    2.000000    1.000000   \n",
       "max      2.000000  202.000000    1.000000    6.200000    2.000000    4.000000   \n",
       "\n",
       "             thal      target  \n",
       "count  302.000000  302.000000  \n",
       "mean     2.314570    0.543046  \n",
       "std      0.613026    0.498970  \n",
       "min      0.000000    0.000000  \n",
       "25%      2.000000    0.000000  \n",
       "50%      2.000000    1.000000  \n",
       "75%      3.000000    1.000000  \n",
       "max      3.000000    1.000000  "
      ]
     },
     "execution_count": 14,
     "metadata": {},
     "output_type": "execute_result"
    }
   ],
   "source": [
    "df.describe()"
   ]
  },
  {
   "cell_type": "code",
   "execution_count": 15,
   "metadata": {
    "scrolled": true
   },
   "outputs": [
    {
     "data": {
      "text/plain": [
       "age             AxesSubplot(0.125,0.71587;0.168478x0.16413)\n",
       "sex          AxesSubplot(0.327174,0.71587;0.168478x0.16413)\n",
       "cp           AxesSubplot(0.529348,0.71587;0.168478x0.16413)\n",
       "trestbps     AxesSubplot(0.731522,0.71587;0.168478x0.16413)\n",
       "chol           AxesSubplot(0.125,0.518913;0.168478x0.16413)\n",
       "fbs         AxesSubplot(0.327174,0.518913;0.168478x0.16413)\n",
       "restecg     AxesSubplot(0.529348,0.518913;0.168478x0.16413)\n",
       "thalach     AxesSubplot(0.731522,0.518913;0.168478x0.16413)\n",
       "exang          AxesSubplot(0.125,0.321957;0.168478x0.16413)\n",
       "oldpeak     AxesSubplot(0.327174,0.321957;0.168478x0.16413)\n",
       "slope       AxesSubplot(0.529348,0.321957;0.168478x0.16413)\n",
       "ca          AxesSubplot(0.731522,0.321957;0.168478x0.16413)\n",
       "thal              AxesSubplot(0.125,0.125;0.168478x0.16413)\n",
       "target         AxesSubplot(0.327174,0.125;0.168478x0.16413)\n",
       "dtype: object"
      ]
     },
     "execution_count": 15,
     "metadata": {},
     "output_type": "execute_result"
    },
    {
     "data": {
      "image/png": "[encoded data removed]",
      "text/plain": [
       "<Figure size 1080x864 with 16 Axes>"
      ]
     },
     "metadata": {
      "needs_background": "light"
     },
     "output_type": "display_data"
    }
   ],
   "source": [
    "df.plot(kind='box', subplots=True, layout=(4,4), fontsize=10, figsize=(15,12))"
   ]
  },
  {
   "cell_type": "code",
   "execution_count": 16,
   "metadata": {},
   "outputs": [
    {
     "data": {
      "text/plain": [
       "20.0"
      ]
     },
     "execution_count": 16,
     "metadata": {},
     "output_type": "execute_result"
    }
   ],
   "source": [
    "# first Column\n",
    "iqr = df['trestbps'].quantile(0.75) - df['trestbps'].quantile(0.25)\n",
    "iqr"
   ]
  },
  {
   "cell_type": "code",
   "execution_count": 17,
   "metadata": {},
   "outputs": [
    {
     "data": {
      "text/plain": [
       "90.0"
      ]
     },
     "execution_count": 17,
     "metadata": {},
     "output_type": "execute_result"
    }
   ],
   "source": [
    "lower_limit = df['trestbps'].quantile(0.25) - 1.5*(iqr)\n",
    "lower_limit"
   ]
  },
  {
   "cell_type": "code",
   "execution_count": 18,
   "metadata": {},
   "outputs": [
    {
     "data": {
      "text/plain": [
       "170.0"
      ]
     },
     "execution_count": 18,
     "metadata": {},
     "output_type": "execute_result"
    }
   ],
   "source": [
    "upper_limit = df['trestbps'].quantile(0.75) + 1.5*(iqr)\n",
    "upper_limit"
   ]
  },
  {
   "cell_type": "code",
   "execution_count": 19,
   "metadata": {},
   "outputs": [],
   "source": [
    "df['trestbps'] = np.where(df['trestbps'] > upper_limit, upper_limit, np.where(df['trestbps'] < lower_limit, lower_limit, df['trestbps']))"
   ]
  },
  {
   "cell_type": "code",
   "execution_count": 20,
   "metadata": {},
   "outputs": [
    {
     "data": {
      "text/plain": [
       "63.75"
      ]
     },
     "execution_count": 20,
     "metadata": {},
     "output_type": "execute_result"
    }
   ],
   "source": [
    "# Second Column\n",
    "iqr = df['chol'].quantile(0.75) - df['chol'].quantile(0.25)\n",
    "iqr"
   ]
  },
  {
   "cell_type": "code",
   "execution_count": 21,
   "metadata": {},
   "outputs": [
    {
     "data": {
      "text/plain": [
       "115.375"
      ]
     },
     "execution_count": 21,
     "metadata": {},
     "output_type": "execute_result"
    }
   ],
   "source": [
    "lower_limit = df['chol'].quantile(0.25) - 1.5*(iqr)\n",
    "lower_limit"
   ]
  },
  {
   "cell_type": "code",
   "execution_count": 22,
   "metadata": {},
   "outputs": [
    {
     "data": {
      "text/plain": [
       "370.375"
      ]
     },
     "execution_count": 22,
     "metadata": {},
     "output_type": "execute_result"
    }
   ],
   "source": [
    "upper_limit = df['chol'].quantile(0.75) + 1.5*(iqr)\n",
    "upper_limit"
   ]
  },
  {
   "cell_type": "code",
   "execution_count": 23,
   "metadata": {},
   "outputs": [],
   "source": [
    "df['chol'] = np.where(df['chol'] > upper_limit, upper_limit, np.where(df['chol'] < lower_limit, lower_limit, df['chol']))"
   ]
  },
  {
   "cell_type": "code",
   "execution_count": 24,
   "metadata": {},
   "outputs": [
    {
     "data": {
      "text/plain": [
       "32.75"
      ]
     },
     "execution_count": 24,
     "metadata": {},
     "output_type": "execute_result"
    }
   ],
   "source": [
    "# Third Column\n",
    "iqr = df['thalach'].quantile(0.75) - df['thalach'].quantile(0.25)\n",
    "iqr"
   ]
  },
  {
   "cell_type": "code",
   "execution_count": 25,
   "metadata": {},
   "outputs": [
    {
     "data": {
      "text/plain": [
       "84.125"
      ]
     },
     "execution_count": 25,
     "metadata": {},
     "output_type": "execute_result"
    }
   ],
   "source": [
    "lower_limit = df['thalach'].quantile(0.25) - 1.5*(iqr)\n",
    "lower_limit"
   ]
  },
  {
   "cell_type": "code",
   "execution_count": 26,
   "metadata": {},
   "outputs": [
    {
     "data": {
      "text/plain": [
       "215.125"
      ]
     },
     "execution_count": 26,
     "metadata": {},
     "output_type": "execute_result"
    }
   ],
   "source": [
    "upper_limit = df['thalach'].quantile(0.75) + 1.5*(iqr)\n",
    "upper_limit"
   ]
  },
  {
   "cell_type": "code",
   "execution_count": 27,
   "metadata": {},
   "outputs": [],
   "source": [
    "df['thalach'] = np.where(df['thalach'] > upper_limit, upper_limit, np.where(df['thalach'] < lower_limit, lower_limit, df['thalach']))"
   ]
  },
  {
   "cell_type": "code",
   "execution_count": 28,
   "metadata": {},
   "outputs": [
    {
     "data": {
      "text/plain": [
       "1.6"
      ]
     },
     "execution_count": 28,
     "metadata": {},
     "output_type": "execute_result"
    }
   ],
   "source": [
    "# Forth Column\n",
    "iqr = df['oldpeak'].quantile(0.75) - df['oldpeak'].quantile(0.25)\n",
    "iqr"
   ]
  },
  {
   "cell_type": "code",
   "execution_count": 29,
   "metadata": {},
   "outputs": [
    {
     "data": {
      "text/plain": [
       "-2.4000000000000004"
      ]
     },
     "execution_count": 29,
     "metadata": {},
     "output_type": "execute_result"
    }
   ],
   "source": [
    "lower_limit = df['oldpeak'].quantile(0.25) - 1.5*(iqr)\n",
    "lower_limit"
   ]
  },
  {
   "cell_type": "code",
   "execution_count": 30,
   "metadata": {},
   "outputs": [
    {
     "data": {
      "text/plain": [
       "4.0"
      ]
     },
     "execution_count": 30,
     "metadata": {},
     "output_type": "execute_result"
    }
   ],
   "source": [
    "upper_limit = df['oldpeak'].quantile(0.75) + 1.5*(iqr)\n",
    "upper_limit"
   ]
  },
  {
   "cell_type": "code",
   "execution_count": 31,
   "metadata": {},
   "outputs": [],
   "source": [
    "df['oldpeak'] = np.where(df['oldpeak'] > upper_limit, upper_limit, np.where(df['oldpeak'] < lower_limit, lower_limit, df['oldpeak']))"
   ]
  },
  {
   "cell_type": "code",
   "execution_count": 32,
   "metadata": {},
   "outputs": [
    {
     "data": {
      "text/plain": [
       "1.0"
      ]
     },
     "execution_count": 32,
     "metadata": {},
     "output_type": "execute_result"
    }
   ],
   "source": [
    "# Fifth Column\n",
    "iqr = df['ca'].quantile(0.75) - df['ca'].quantile(0.25)\n",
    "iqr"
   ]
  },
  {
   "cell_type": "code",
   "execution_count": 33,
   "metadata": {},
   "outputs": [
    {
     "data": {
      "text/plain": [
       "-1.5"
      ]
     },
     "execution_count": 33,
     "metadata": {},
     "output_type": "execute_result"
    }
   ],
   "source": [
    "lower_limit = df['ca'].quantile(0.25) - 1.5*(iqr)\n",
    "lower_limit"
   ]
  },
  {
   "cell_type": "code",
   "execution_count": 34,
   "metadata": {},
   "outputs": [
    {
     "data": {
      "text/plain": [
       "2.5"
      ]
     },
     "execution_count": 34,
     "metadata": {},
     "output_type": "execute_result"
    }
   ],
   "source": [
    "upper_limit = df['ca'].quantile(0.75) + 1.5*(iqr)\n",
    "upper_limit"
   ]
  },
  {
   "cell_type": "code",
   "execution_count": 35,
   "metadata": {},
   "outputs": [],
   "source": [
    "df['ca'] = np.where(df['ca'] > upper_limit, upper_limit, np.where(df['ca'] < lower_limit, lower_limit, df['ca']))"
   ]
  },
  {
   "cell_type": "code",
   "execution_count": 36,
   "metadata": {},
   "outputs": [
    {
     "data": {
      "text/plain": [
       "1.0"
      ]
     },
     "execution_count": 36,
     "metadata": {},
     "output_type": "execute_result"
    }
   ],
   "source": [
    "# Sixth Column\n",
    "iqr = df['thal'].quantile(0.75) - df['thal'].quantile(0.25)\n",
    "iqr"
   ]
  },
  {
   "cell_type": "code",
   "execution_count": 37,
   "metadata": {},
   "outputs": [
    {
     "data": {
      "text/plain": [
       "0.5"
      ]
     },
     "execution_count": 37,
     "metadata": {},
     "output_type": "execute_result"
    }
   ],
   "source": [
    "lower_limit = df['thal'].quantile(0.25) - 1.5*(iqr)\n",
    "lower_limit"
   ]
  },
  {
   "cell_type": "code",
   "execution_count": 38,
   "metadata": {},
   "outputs": [
    {
     "data": {
      "text/plain": [
       "4.5"
      ]
     },
     "execution_count": 38,
     "metadata": {},
     "output_type": "execute_result"
    }
   ],
   "source": [
    "upper_limit = df['thal'].quantile(0.75) + 1.5*(iqr)\n",
    "upper_limit"
   ]
  },
  {
   "cell_type": "code",
   "execution_count": 39,
   "metadata": {},
   "outputs": [],
   "source": [
    "df['thal'] = np.where(df['thal'] > upper_limit, upper_limit, np.where(df['thal'] < lower_limit, lower_limit, df['thal']))"
   ]
  },
  {
   "cell_type": "code",
   "execution_count": 40,
   "metadata": {},
   "outputs": [
    {
     "data": {
      "text/plain": [
       "0.0"
      ]
     },
     "execution_count": 40,
     "metadata": {},
     "output_type": "execute_result"
    }
   ],
   "source": [
    "# Seven Column\n",
    "iqr = df['fbs'].quantile(0.75) - df['fbs'].quantile(0.25)\n",
    "iqr"
   ]
  },
  {
   "cell_type": "code",
   "execution_count": 41,
   "metadata": {},
   "outputs": [
    {
     "data": {
      "text/plain": [
       "0.0"
      ]
     },
     "execution_count": 41,
     "metadata": {},
     "output_type": "execute_result"
    }
   ],
   "source": [
    "lower_limit = df['fbs'].quantile(0.25) - 1.5*(iqr)\n",
    "lower_limit"
   ]
  },
  {
   "cell_type": "code",
   "execution_count": 42,
   "metadata": {},
   "outputs": [
    {
     "data": {
      "text/plain": [
       "0.0"
      ]
     },
     "execution_count": 42,
     "metadata": {},
     "output_type": "execute_result"
    }
   ],
   "source": [
    "upper_limit = df['fbs'].quantile(0.75) + 1.5*(iqr)\n",
    "upper_limit"
   ]
  },
  {
   "cell_type": "code",
   "execution_count": 43,
   "metadata": {},
   "outputs": [],
   "source": [
    "df['fbs'] = np.where(df['fbs'] > upper_limit, upper_limit, np.where(df['fbs'] < lower_limit, lower_limit, df['fbs']))"
   ]
  },
  {
   "cell_type": "code",
   "execution_count": 44,
   "metadata": {},
   "outputs": [
    {
     "data": {
      "image/png": "[encoded data removed]",
      "text/plain": [
       "<Figure size 1296x1008 with 16 Axes>"
      ]
     },
     "metadata": {
      "needs_background": "light"
     },
     "output_type": "display_data"
    }
   ],
   "source": [
    "df.plot(kind='box', subplots=True, layout=(4,4), fontsize=10, figsize=(18,14));"
   ]
  },
  {
   "cell_type": "markdown",
   "metadata": {},
   "source": [
    "# spliting Data"
   ]
  },
  {
   "cell_type": "code",
   "execution_count": 45,
   "metadata": {},
   "outputs": [],
   "source": [
    "x = df.iloc[:, [0,2,3,6,7,9,11,12,13]]"
   ]
  },
  {
   "cell_type": "code",
   "execution_count": 46,
   "metadata": {},
   "outputs": [],
   "source": [
    "y = df.iloc[:, [1,4,8,10]]"
   ]
  },
  {
   "cell_type": "code",
   "execution_count": 47,
   "metadata": {},
   "outputs": [
    {
     "data": {
      "text/html": [
       "<div>\n",
       "<style scoped>\n",
       "    .dataframe tbody tr th:only-of-type {\n",
       "        vertical-align: middle;\n",
       "    }\n",
       "\n",
       "    .dataframe tbody tr th {\n",
       "        vertical-align: top;\n",
       "    }\n",
       "\n",
       "    .dataframe thead th {\n",
       "        text-align: right;\n",
       "    }\n",
       "</style>\n",
       "<table border=\"1\" class=\"dataframe\">\n",
       "  <thead>\n",
       "    <tr style=\"text-align: right;\">\n",
       "      <th></th>\n",
       "      <th>sex</th>\n",
       "      <th>chol</th>\n",
       "      <th>exang</th>\n",
       "      <th>slope</th>\n",
       "    </tr>\n",
       "  </thead>\n",
       "  <tbody>\n",
       "    <tr>\n",
       "      <th>0</th>\n",
       "      <td>1</td>\n",
       "      <td>233.0</td>\n",
       "      <td>0</td>\n",
       "      <td>0</td>\n",
       "    </tr>\n",
       "    <tr>\n",
       "      <th>1</th>\n",
       "      <td>1</td>\n",
       "      <td>250.0</td>\n",
       "      <td>0</td>\n",
       "      <td>0</td>\n",
       "    </tr>\n",
       "    <tr>\n",
       "      <th>2</th>\n",
       "      <td>0</td>\n",
       "      <td>204.0</td>\n",
       "      <td>0</td>\n",
       "      <td>2</td>\n",
       "    </tr>\n",
       "    <tr>\n",
       "      <th>3</th>\n",
       "      <td>1</td>\n",
       "      <td>236.0</td>\n",
       "      <td>0</td>\n",
       "      <td>2</td>\n",
       "    </tr>\n",
       "    <tr>\n",
       "      <th>4</th>\n",
       "      <td>0</td>\n",
       "      <td>354.0</td>\n",
       "      <td>1</td>\n",
       "      <td>2</td>\n",
       "    </tr>\n",
       "    <tr>\n",
       "      <th>...</th>\n",
       "      <td>...</td>\n",
       "      <td>...</td>\n",
       "      <td>...</td>\n",
       "      <td>...</td>\n",
       "    </tr>\n",
       "    <tr>\n",
       "      <th>298</th>\n",
       "      <td>0</td>\n",
       "      <td>241.0</td>\n",
       "      <td>1</td>\n",
       "      <td>1</td>\n",
       "    </tr>\n",
       "    <tr>\n",
       "      <th>299</th>\n",
       "      <td>1</td>\n",
       "      <td>264.0</td>\n",
       "      <td>0</td>\n",
       "      <td>1</td>\n",
       "    </tr>\n",
       "    <tr>\n",
       "      <th>300</th>\n",
       "      <td>1</td>\n",
       "      <td>193.0</td>\n",
       "      <td>0</td>\n",
       "      <td>1</td>\n",
       "    </tr>\n",
       "    <tr>\n",
       "      <th>301</th>\n",
       "      <td>1</td>\n",
       "      <td>131.0</td>\n",
       "      <td>1</td>\n",
       "      <td>1</td>\n",
       "    </tr>\n",
       "    <tr>\n",
       "      <th>302</th>\n",
       "      <td>0</td>\n",
       "      <td>236.0</td>\n",
       "      <td>0</td>\n",
       "      <td>1</td>\n",
       "    </tr>\n",
       "  </tbody>\n",
       "</table>\n",
       "<p>302 rows × 4 columns</p>\n",
       "</div>"
      ],
      "text/plain": [
       "     sex   chol  exang  slope\n",
       "0      1  233.0      0      0\n",
       "1      1  250.0      0      0\n",
       "2      0  204.0      0      2\n",
       "3      1  236.0      0      2\n",
       "4      0  354.0      1      2\n",
       "..   ...    ...    ...    ...\n",
       "298    0  241.0      1      1\n",
       "299    1  264.0      0      1\n",
       "300    1  193.0      0      1\n",
       "301    1  131.0      1      1\n",
       "302    0  236.0      0      1\n",
       "\n",
       "[302 rows x 4 columns]"
      ]
     },
     "execution_count": 47,
     "metadata": {},
     "output_type": "execute_result"
    }
   ],
   "source": [
    "y"
   ]
  },
  {
   "cell_type": "markdown",
   "metadata": {},
   "source": [
    "# Normalization"
   ]
  },
  {
   "cell_type": "code",
   "execution_count": 48,
   "metadata": {},
   "outputs": [],
   "source": [
    "def norm_func(i):\n",
    "    x = (i-i.min()) / (i.max()-i.min())\n",
    "    return(x)"
   ]
  },
  {
   "cell_type": "code",
   "execution_count": 49,
   "metadata": {},
   "outputs": [],
   "source": [
    "y_norm = norm_func(y)"
   ]
  },
  {
   "cell_type": "code",
   "execution_count": 50,
   "metadata": {},
   "outputs": [
    {
     "data": {
      "text/html": [
       "<div>\n",
       "<style scoped>\n",
       "    .dataframe tbody tr th:only-of-type {\n",
       "        vertical-align: middle;\n",
       "    }\n",
       "\n",
       "    .dataframe tbody tr th {\n",
       "        vertical-align: top;\n",
       "    }\n",
       "\n",
       "    .dataframe thead th {\n",
       "        text-align: right;\n",
       "    }\n",
       "</style>\n",
       "<table border=\"1\" class=\"dataframe\">\n",
       "  <thead>\n",
       "    <tr style=\"text-align: right;\">\n",
       "      <th></th>\n",
       "      <th>sex</th>\n",
       "      <th>chol</th>\n",
       "      <th>exang</th>\n",
       "      <th>slope</th>\n",
       "    </tr>\n",
       "  </thead>\n",
       "  <tbody>\n",
       "    <tr>\n",
       "      <th>0</th>\n",
       "      <td>1.0</td>\n",
       "      <td>0.437852</td>\n",
       "      <td>0.0</td>\n",
       "      <td>0.0</td>\n",
       "    </tr>\n",
       "    <tr>\n",
       "      <th>1</th>\n",
       "      <td>1.0</td>\n",
       "      <td>0.507417</td>\n",
       "      <td>0.0</td>\n",
       "      <td>0.0</td>\n",
       "    </tr>\n",
       "    <tr>\n",
       "      <th>2</th>\n",
       "      <td>0.0</td>\n",
       "      <td>0.319182</td>\n",
       "      <td>0.0</td>\n",
       "      <td>1.0</td>\n",
       "    </tr>\n",
       "    <tr>\n",
       "      <th>3</th>\n",
       "      <td>1.0</td>\n",
       "      <td>0.450128</td>\n",
       "      <td>0.0</td>\n",
       "      <td>1.0</td>\n",
       "    </tr>\n",
       "    <tr>\n",
       "      <th>4</th>\n",
       "      <td>0.0</td>\n",
       "      <td>0.932992</td>\n",
       "      <td>1.0</td>\n",
       "      <td>1.0</td>\n",
       "    </tr>\n",
       "    <tr>\n",
       "      <th>...</th>\n",
       "      <td>...</td>\n",
       "      <td>...</td>\n",
       "      <td>...</td>\n",
       "      <td>...</td>\n",
       "    </tr>\n",
       "    <tr>\n",
       "      <th>298</th>\n",
       "      <td>0.0</td>\n",
       "      <td>0.470588</td>\n",
       "      <td>1.0</td>\n",
       "      <td>0.5</td>\n",
       "    </tr>\n",
       "    <tr>\n",
       "      <th>299</th>\n",
       "      <td>1.0</td>\n",
       "      <td>0.564706</td>\n",
       "      <td>0.0</td>\n",
       "      <td>0.5</td>\n",
       "    </tr>\n",
       "    <tr>\n",
       "      <th>300</th>\n",
       "      <td>1.0</td>\n",
       "      <td>0.274169</td>\n",
       "      <td>0.0</td>\n",
       "      <td>0.5</td>\n",
       "    </tr>\n",
       "    <tr>\n",
       "      <th>301</th>\n",
       "      <td>1.0</td>\n",
       "      <td>0.020460</td>\n",
       "      <td>1.0</td>\n",
       "      <td>0.5</td>\n",
       "    </tr>\n",
       "    <tr>\n",
       "      <th>302</th>\n",
       "      <td>0.0</td>\n",
       "      <td>0.450128</td>\n",
       "      <td>0.0</td>\n",
       "      <td>0.5</td>\n",
       "    </tr>\n",
       "  </tbody>\n",
       "</table>\n",
       "<p>302 rows × 4 columns</p>\n",
       "</div>"
      ],
      "text/plain": [
       "     sex      chol  exang  slope\n",
       "0    1.0  0.437852    0.0    0.0\n",
       "1    1.0  0.507417    0.0    0.0\n",
       "2    0.0  0.319182    0.0    1.0\n",
       "3    1.0  0.450128    0.0    1.0\n",
       "4    0.0  0.932992    1.0    1.0\n",
       "..   ...       ...    ...    ...\n",
       "298  0.0  0.470588    1.0    0.5\n",
       "299  1.0  0.564706    0.0    0.5\n",
       "300  1.0  0.274169    0.0    0.5\n",
       "301  1.0  0.020460    1.0    0.5\n",
       "302  0.0  0.450128    0.0    0.5\n",
       "\n",
       "[302 rows x 4 columns]"
      ]
     },
     "execution_count": 50,
     "metadata": {},
     "output_type": "execute_result"
    }
   ],
   "source": [
    "y_norm"
   ]
  },
  {
   "cell_type": "markdown",
   "metadata": {},
   "source": [
    "# Joining data for Clustering"
   ]
  },
  {
   "cell_type": "code",
   "execution_count": 51,
   "metadata": {},
   "outputs": [],
   "source": [
    "xy = pd.concat([x, y_norm], axis=1)"
   ]
  },
  {
   "cell_type": "code",
   "execution_count": 52,
   "metadata": {},
   "outputs": [
    {
     "data": {
      "text/html": [
       "<div>\n",
       "<style scoped>\n",
       "    .dataframe tbody tr th:only-of-type {\n",
       "        vertical-align: middle;\n",
       "    }\n",
       "\n",
       "    .dataframe tbody tr th {\n",
       "        vertical-align: top;\n",
       "    }\n",
       "\n",
       "    .dataframe thead th {\n",
       "        text-align: right;\n",
       "    }\n",
       "</style>\n",
       "<table border=\"1\" class=\"dataframe\">\n",
       "  <thead>\n",
       "    <tr style=\"text-align: right;\">\n",
       "      <th></th>\n",
       "      <th>age</th>\n",
       "      <th>cp</th>\n",
       "      <th>trestbps</th>\n",
       "      <th>restecg</th>\n",
       "      <th>thalach</th>\n",
       "      <th>oldpeak</th>\n",
       "      <th>ca</th>\n",
       "      <th>thal</th>\n",
       "      <th>target</th>\n",
       "      <th>sex</th>\n",
       "      <th>chol</th>\n",
       "      <th>exang</th>\n",
       "      <th>slope</th>\n",
       "    </tr>\n",
       "  </thead>\n",
       "  <tbody>\n",
       "    <tr>\n",
       "      <th>0</th>\n",
       "      <td>63</td>\n",
       "      <td>3</td>\n",
       "      <td>145.0</td>\n",
       "      <td>0</td>\n",
       "      <td>150.0</td>\n",
       "      <td>2.3</td>\n",
       "      <td>0.0</td>\n",
       "      <td>1.0</td>\n",
       "      <td>1</td>\n",
       "      <td>1.0</td>\n",
       "      <td>0.437852</td>\n",
       "      <td>0.0</td>\n",
       "      <td>0.0</td>\n",
       "    </tr>\n",
       "    <tr>\n",
       "      <th>1</th>\n",
       "      <td>37</td>\n",
       "      <td>2</td>\n",
       "      <td>130.0</td>\n",
       "      <td>1</td>\n",
       "      <td>187.0</td>\n",
       "      <td>3.5</td>\n",
       "      <td>0.0</td>\n",
       "      <td>2.0</td>\n",
       "      <td>1</td>\n",
       "      <td>1.0</td>\n",
       "      <td>0.507417</td>\n",
       "      <td>0.0</td>\n",
       "      <td>0.0</td>\n",
       "    </tr>\n",
       "    <tr>\n",
       "      <th>2</th>\n",
       "      <td>41</td>\n",
       "      <td>1</td>\n",
       "      <td>130.0</td>\n",
       "      <td>0</td>\n",
       "      <td>172.0</td>\n",
       "      <td>1.4</td>\n",
       "      <td>0.0</td>\n",
       "      <td>2.0</td>\n",
       "      <td>1</td>\n",
       "      <td>0.0</td>\n",
       "      <td>0.319182</td>\n",
       "      <td>0.0</td>\n",
       "      <td>1.0</td>\n",
       "    </tr>\n",
       "    <tr>\n",
       "      <th>3</th>\n",
       "      <td>56</td>\n",
       "      <td>1</td>\n",
       "      <td>120.0</td>\n",
       "      <td>1</td>\n",
       "      <td>178.0</td>\n",
       "      <td>0.8</td>\n",
       "      <td>0.0</td>\n",
       "      <td>2.0</td>\n",
       "      <td>1</td>\n",
       "      <td>1.0</td>\n",
       "      <td>0.450128</td>\n",
       "      <td>0.0</td>\n",
       "      <td>1.0</td>\n",
       "    </tr>\n",
       "    <tr>\n",
       "      <th>4</th>\n",
       "      <td>57</td>\n",
       "      <td>0</td>\n",
       "      <td>120.0</td>\n",
       "      <td>1</td>\n",
       "      <td>163.0</td>\n",
       "      <td>0.6</td>\n",
       "      <td>0.0</td>\n",
       "      <td>2.0</td>\n",
       "      <td>1</td>\n",
       "      <td>0.0</td>\n",
       "      <td>0.932992</td>\n",
       "      <td>1.0</td>\n",
       "      <td>1.0</td>\n",
       "    </tr>\n",
       "    <tr>\n",
       "      <th>...</th>\n",
       "      <td>...</td>\n",
       "      <td>...</td>\n",
       "      <td>...</td>\n",
       "      <td>...</td>\n",
       "      <td>...</td>\n",
       "      <td>...</td>\n",
       "      <td>...</td>\n",
       "      <td>...</td>\n",
       "      <td>...</td>\n",
       "      <td>...</td>\n",
       "      <td>...</td>\n",
       "      <td>...</td>\n",
       "      <td>...</td>\n",
       "    </tr>\n",
       "    <tr>\n",
       "      <th>298</th>\n",
       "      <td>57</td>\n",
       "      <td>0</td>\n",
       "      <td>140.0</td>\n",
       "      <td>1</td>\n",
       "      <td>123.0</td>\n",
       "      <td>0.2</td>\n",
       "      <td>0.0</td>\n",
       "      <td>3.0</td>\n",
       "      <td>0</td>\n",
       "      <td>0.0</td>\n",
       "      <td>0.470588</td>\n",
       "      <td>1.0</td>\n",
       "      <td>0.5</td>\n",
       "    </tr>\n",
       "    <tr>\n",
       "      <th>299</th>\n",
       "      <td>45</td>\n",
       "      <td>3</td>\n",
       "      <td>110.0</td>\n",
       "      <td>1</td>\n",
       "      <td>132.0</td>\n",
       "      <td>1.2</td>\n",
       "      <td>0.0</td>\n",
       "      <td>3.0</td>\n",
       "      <td>0</td>\n",
       "      <td>1.0</td>\n",
       "      <td>0.564706</td>\n",
       "      <td>0.0</td>\n",
       "      <td>0.5</td>\n",
       "    </tr>\n",
       "    <tr>\n",
       "      <th>300</th>\n",
       "      <td>68</td>\n",
       "      <td>0</td>\n",
       "      <td>144.0</td>\n",
       "      <td>1</td>\n",
       "      <td>141.0</td>\n",
       "      <td>3.4</td>\n",
       "      <td>2.0</td>\n",
       "      <td>3.0</td>\n",
       "      <td>0</td>\n",
       "      <td>1.0</td>\n",
       "      <td>0.274169</td>\n",
       "      <td>0.0</td>\n",
       "      <td>0.5</td>\n",
       "    </tr>\n",
       "    <tr>\n",
       "      <th>301</th>\n",
       "      <td>57</td>\n",
       "      <td>0</td>\n",
       "      <td>130.0</td>\n",
       "      <td>1</td>\n",
       "      <td>115.0</td>\n",
       "      <td>1.2</td>\n",
       "      <td>1.0</td>\n",
       "      <td>3.0</td>\n",
       "      <td>0</td>\n",
       "      <td>1.0</td>\n",
       "      <td>0.020460</td>\n",
       "      <td>1.0</td>\n",
       "      <td>0.5</td>\n",
       "    </tr>\n",
       "    <tr>\n",
       "      <th>302</th>\n",
       "      <td>57</td>\n",
       "      <td>1</td>\n",
       "      <td>130.0</td>\n",
       "      <td>0</td>\n",
       "      <td>174.0</td>\n",
       "      <td>0.0</td>\n",
       "      <td>1.0</td>\n",
       "      <td>2.0</td>\n",
       "      <td>0</td>\n",
       "      <td>0.0</td>\n",
       "      <td>0.450128</td>\n",
       "      <td>0.0</td>\n",
       "      <td>0.5</td>\n",
       "    </tr>\n",
       "  </tbody>\n",
       "</table>\n",
       "<p>302 rows × 13 columns</p>\n",
       "</div>"
      ],
      "text/plain": [
       "     age  cp  trestbps  restecg  thalach  oldpeak   ca  thal  target  sex  \\\n",
       "0     63   3     145.0        0    150.0      2.3  0.0   1.0       1  1.0   \n",
       "1     37   2     130.0        1    187.0      3.5  0.0   2.0       1  1.0   \n",
       "2     41   1     130.0        0    172.0      1.4  0.0   2.0       1  0.0   \n",
       "3     56   1     120.0        1    178.0      0.8  0.0   2.0       1  1.0   \n",
       "4     57   0     120.0        1    163.0      0.6  0.0   2.0       1  0.0   \n",
       "..   ...  ..       ...      ...      ...      ...  ...   ...     ...  ...   \n",
       "298   57   0     140.0        1    123.0      0.2  0.0   3.0       0  0.0   \n",
       "299   45   3     110.0        1    132.0      1.2  0.0   3.0       0  1.0   \n",
       "300   68   0     144.0        1    141.0      3.4  2.0   3.0       0  1.0   \n",
       "301   57   0     130.0        1    115.0      1.2  1.0   3.0       0  1.0   \n",
       "302   57   1     130.0        0    174.0      0.0  1.0   2.0       0  0.0   \n",
       "\n",
       "         chol  exang  slope  \n",
       "0    0.437852    0.0    0.0  \n",
       "1    0.507417    0.0    0.0  \n",
       "2    0.319182    0.0    1.0  \n",
       "3    0.450128    0.0    1.0  \n",
       "4    0.932992    1.0    1.0  \n",
       "..        ...    ...    ...  \n",
       "298  0.470588    1.0    0.5  \n",
       "299  0.564706    0.0    0.5  \n",
       "300  0.274169    0.0    0.5  \n",
       "301  0.020460    1.0    0.5  \n",
       "302  0.450128    0.0    0.5  \n",
       "\n",
       "[302 rows x 13 columns]"
      ]
     },
     "execution_count": 52,
     "metadata": {},
     "output_type": "execute_result"
    }
   ],
   "source": [
    "xy"
   ]
  },
  {
   "cell_type": "markdown",
   "metadata": {},
   "source": [
    "# Dimension Reduction using PCA"
   ]
  },
  {
   "cell_type": "code",
   "execution_count": 53,
   "metadata": {},
   "outputs": [],
   "source": [
    "pca = PCA(n_components=13)"
   ]
  },
  {
   "cell_type": "code",
   "execution_count": 54,
   "metadata": {},
   "outputs": [],
   "source": [
    "pca_v = pca.fit_transform(xy)"
   ]
  },
  {
   "cell_type": "code",
   "execution_count": 55,
   "metadata": {},
   "outputs": [
    {
     "data": {
      "text/plain": [
       "array([[ 2.69916644e+00,  1.48619352e+01,  5.89786358e+00, ...,\n",
       "        -6.24678960e-02,  4.65300395e-01,  7.35073248e-02],\n",
       "       [-3.98443185e+01,  1.25991474e+00, -1.05426590e+01, ...,\n",
       "        -1.53922509e-01,  4.41078134e-01,  2.06683204e-01],\n",
       "       [-2.44889638e+01, -2.22784634e-01, -9.11965071e+00, ...,\n",
       "        -6.56024871e-02, -3.00422245e-01, -2.44932131e-01],\n",
       "       ...,\n",
       "       [ 1.23907831e+01,  1.34167738e+01,  9.47797428e+00, ...,\n",
       "        -1.77508030e-02, -3.14893181e-02, -2.41717835e-01],\n",
       "       [ 3.41602147e+01, -5.65987206e+00, -2.95766834e+00, ...,\n",
       "        -4.02836771e-02,  1.59654352e-01, -4.29787240e-01],\n",
       "       [-2.34776072e+01,  2.58013548e+00,  6.74444043e+00, ...,\n",
       "         8.80856705e-01,  2.74176882e-01, -1.38513588e-01]])"
      ]
     },
     "execution_count": 55,
     "metadata": {},
     "output_type": "execute_result"
    }
   ],
   "source": [
    "pca_v"
   ]
  },
  {
   "cell_type": "markdown",
   "metadata": {},
   "source": [
    "# PCA Weights"
   ]
  },
  {
   "cell_type": "code",
   "execution_count": 57,
   "metadata": {},
   "outputs": [
    {
     "data": {
      "text/plain": [
       "array([[ 1.85378622e-01, -1.25947211e-02,  1.09341647e-01,\n",
       "        -1.33873641e-03, -9.76178846e-01,  1.75392946e-02,\n",
       "         1.02656547e-02,  2.77522268e-03, -9.29585754e-03,\n",
       "         6.67821272e-04,  3.28287508e-04,  7.66482779e-03,\n",
       "        -5.21380051e-03],\n",
       "       [ 1.58032468e-01,  6.41393741e-03,  9.77429362e-01,\n",
       "        -3.64481764e-03,  1.39639327e-01,  8.55094830e-03,\n",
       "         4.14144362e-03,  1.28898184e-03, -2.24329443e-03,\n",
       "        -1.77921671e-03,  1.69250110e-03, -2.72207692e-04,\n",
       "        -9.73862460e-04],\n",
       "       [ 9.69396123e-01,  6.53234132e-03, -1.80351720e-01,\n",
       "        -4.09933196e-03,  1.64018558e-01, -2.26082523e-04,\n",
       "         2.60873383e-02,  4.27228770e-04,  3.45042416e-04,\n",
       "        -6.66790804e-03,  4.16751415e-03, -6.07955302e-03,\n",
       "         1.77697829e-03],\n",
       "       [-1.03023510e-02, -5.13146537e-01, -6.88881162e-03,\n",
       "        -4.00535460e-02,  2.46653809e-02,  6.79772132e-01,\n",
       "         3.69019263e-01,  1.90362183e-01, -2.48035818e-01,\n",
       "         8.69452025e-02,  1.59145130e-02,  1.49297612e-01,\n",
       "        -9.04818050e-02],\n",
       "       [-4.14122714e-03,  7.53059266e-01, -9.13824973e-03,\n",
       "         1.60319427e-02, -1.53305218e-03,  6.37985090e-01,\n",
       "        -8.31025784e-02, -1.00351298e-02,  5.64452353e-02,\n",
       "         1.76368620e-02, -1.61266055e-02, -6.95794370e-02,\n",
       "        -9.95565408e-02],\n",
       "       [-2.54240497e-02,  3.32502244e-01,  8.87209785e-04,\n",
       "        -4.49420596e-02, -4.33050596e-03, -2.66538783e-01,\n",
       "         8.85469853e-01,  5.38640981e-02, -9.50656790e-02,\n",
       "         8.95012779e-02, -1.30994117e-03, -7.91425613e-02,\n",
       "         7.37712582e-02],\n",
       "       [-6.93193937e-03, -1.49573660e-01,  8.28151977e-04,\n",
       "         2.28376347e-02,  1.70022607e-04,  1.61995039e-01,\n",
       "         2.01669167e-01, -8.63116059e-01,  1.96220238e-01,\n",
       "        -3.26831870e-01, -9.04090570e-04, -1.39511143e-01,\n",
       "        -1.97380490e-02],\n",
       "       [ 1.11522754e-03, -3.81515829e-02,  2.96223136e-03,\n",
       "         9.58913288e-01, -5.54351166e-04,  2.61811721e-02,\n",
       "         7.80382650e-02,  1.54398999e-01,  1.02463703e-01,\n",
       "        -1.67082863e-01, -2.79525448e-02, -8.48108220e-02,\n",
       "         4.48915096e-02],\n",
       "       [ 1.00323559e-02,  3.05677813e-02,  1.04901252e-03,\n",
       "         2.55313483e-01,  3.02501401e-03, -3.75155068e-02,\n",
       "        -7.19438329e-02, -4.14303947e-01, -2.30350439e-01,\n",
       "         8.03943899e-01, -9.68916154e-02,  2.16030631e-01,\n",
       "         9.71142694e-03],\n",
       "       [ 4.20506208e-04,  1.65623242e-01, -1.83196898e-03,\n",
       "         6.00131970e-02,  4.82358633e-03, -7.89321551e-02,\n",
       "         2.40734095e-02, -8.45791920e-02, -1.60153107e-01,\n",
       "        -3.48373393e-01,  6.68521930e-02,  8.95302226e-01,\n",
       "        -4.39178011e-02],\n",
       "       [-7.50315218e-04,  7.74792016e-02, -1.84550173e-03,\n",
       "         6.38030474e-02,  2.13543432e-03, -8.32799607e-02,\n",
       "        -1.26134753e-01, -1.06697278e-01, -8.78366644e-01,\n",
       "        -2.57677150e-01,  3.81366030e-02, -3.00777162e-01,\n",
       "        -1.60751367e-01],\n",
       "       [ 8.98337921e-04, -2.36331252e-02,  3.42786038e-04,\n",
       "         2.54349768e-02,  2.48360679e-03, -1.33269065e-01,\n",
       "         6.02676289e-02,  3.29786087e-02,  1.55493405e-01,\n",
       "         4.77736595e-02, -1.40026432e-01,  1.94796755e-03,\n",
       "        -9.64487070e-01],\n",
       "       [-3.24043224e-03,  5.23181398e-03, -5.59337265e-04,\n",
       "         5.04622942e-02, -8.15647966e-04, -1.41214018e-02,\n",
       "         8.76917984e-04, -2.58644270e-02,  5.23968081e-02,\n",
       "         1.13866228e-01,  9.81714541e-01, -3.38726298e-02,\n",
       "        -1.26189608e-01]])"
      ]
     },
     "execution_count": 57,
     "metadata": {},
     "output_type": "execute_result"
    }
   ],
   "source": [
    "pca.components_"
   ]
  },
  {
   "cell_type": "code",
   "execution_count": 58,
   "metadata": {},
   "outputs": [
    {
     "data": {
      "text/plain": [
       "array([ 1.85378622e-01, -1.25947211e-02,  1.09341647e-01, -1.33873641e-03,\n",
       "       -9.76178846e-01,  1.75392946e-02,  1.02656547e-02,  2.77522268e-03,\n",
       "       -9.29585754e-03,  6.67821272e-04,  3.28287508e-04,  7.66482779e-03,\n",
       "       -5.21380051e-03])"
      ]
     },
     "execution_count": 58,
     "metadata": {},
     "output_type": "execute_result"
    }
   ],
   "source": [
    "pca.components_[0]"
   ]
  },
  {
   "cell_type": "code",
   "execution_count": 60,
   "metadata": {},
   "outputs": [],
   "source": [
    "var = pca.explained_variance_ratio_"
   ]
  },
  {
   "cell_type": "code",
   "execution_count": 61,
   "metadata": {},
   "outputs": [
    {
     "data": {
      "text/plain": [
       "array([6.09334010e-01, 3.17866767e-01, 6.82172120e-02, 1.48180564e-03,\n",
       "       1.08723926e-03, 6.79709561e-04, 4.05081461e-04, 3.12981360e-04,\n",
       "       2.23275381e-04, 1.73358058e-04, 1.17861538e-04, 6.38332948e-05,\n",
       "       3.68652052e-05])"
      ]
     },
     "execution_count": 61,
     "metadata": {},
     "output_type": "execute_result"
    }
   ],
   "source": [
    "var"
   ]
  },
  {
   "cell_type": "markdown",
   "metadata": {},
   "source": [
    "# Cumulative Variance"
   ]
  },
  {
   "cell_type": "code",
   "execution_count": 62,
   "metadata": {},
   "outputs": [],
   "source": [
    "var1 = np.cumsum(np.round(var, decimals=4)*100)"
   ]
  },
  {
   "cell_type": "code",
   "execution_count": 63,
   "metadata": {},
   "outputs": [
    {
     "data": {
      "text/plain": [
       "array([ 60.93,  92.72,  99.54,  99.69,  99.8 ,  99.87,  99.91,  99.94,\n",
       "        99.96,  99.98,  99.99, 100.  , 100.  ])"
      ]
     },
     "execution_count": 63,
     "metadata": {},
     "output_type": "execute_result"
    }
   ],
   "source": [
    "var1"
   ]
  },
  {
   "cell_type": "markdown",
   "metadata": {},
   "source": [
    "# Variance plot for Pca components "
   ]
  },
  {
   "cell_type": "code",
   "execution_count": 64,
   "metadata": {},
   "outputs": [
    {
     "data": {
      "text/plain": [
       "[<matplotlib.lines.Line2D at 0x7f8fc47afc10>]"
      ]
     },
     "execution_count": 64,
     "metadata": {},
     "output_type": "execute_result"
    },
    {
     "data": {
      "image/png": "[encoded data removed]",
      "text/plain": [
       "<Figure size 432x288 with 1 Axes>"
      ]
     },
     "metadata": {
      "needs_background": "light"
     },
     "output_type": "display_data"
    }
   ],
   "source": [
    "plt.plot(var1, color='red')"
   ]
  },
  {
   "cell_type": "markdown",
   "metadata": {},
   "source": [
    "# PCa Values to a data frame"
   ]
  },
  {
   "cell_type": "code",
   "execution_count": 65,
   "metadata": {},
   "outputs": [],
   "source": [
    "data = pd.DataFrame(pca_v)"
   ]
  },
  {
   "cell_type": "code",
   "execution_count": 66,
   "metadata": {},
   "outputs": [
    {
     "data": {
      "text/html": [
       "<div>\n",
       "<style scoped>\n",
       "    .dataframe tbody tr th:only-of-type {\n",
       "        vertical-align: middle;\n",
       "    }\n",
       "\n",
       "    .dataframe tbody tr th {\n",
       "        vertical-align: top;\n",
       "    }\n",
       "\n",
       "    .dataframe thead th {\n",
       "        text-align: right;\n",
       "    }\n",
       "</style>\n",
       "<table border=\"1\" class=\"dataframe\">\n",
       "  <thead>\n",
       "    <tr style=\"text-align: right;\">\n",
       "      <th></th>\n",
       "      <th>0</th>\n",
       "      <th>1</th>\n",
       "      <th>2</th>\n",
       "      <th>3</th>\n",
       "      <th>4</th>\n",
       "      <th>5</th>\n",
       "      <th>6</th>\n",
       "      <th>7</th>\n",
       "      <th>8</th>\n",
       "      <th>9</th>\n",
       "      <th>10</th>\n",
       "      <th>11</th>\n",
       "      <th>12</th>\n",
       "    </tr>\n",
       "  </thead>\n",
       "  <tbody>\n",
       "    <tr>\n",
       "      <th>0</th>\n",
       "      <td>2.699166</td>\n",
       "      <td>14.861935</td>\n",
       "      <td>5.897864</td>\n",
       "      <td>-0.901321</td>\n",
       "      <td>2.368162</td>\n",
       "      <td>-0.546763</td>\n",
       "      <td>0.890043</td>\n",
       "      <td>-0.763041</td>\n",
       "      <td>0.653250</td>\n",
       "      <td>-0.169109</td>\n",
       "      <td>-0.062468</td>\n",
       "      <td>0.465300</td>\n",
       "      <td>0.073507</td>\n",
       "    </tr>\n",
       "    <tr>\n",
       "      <th>1</th>\n",
       "      <td>-39.844319</td>\n",
       "      <td>1.259915</td>\n",
       "      <td>-10.542659</td>\n",
       "      <td>1.862781</td>\n",
       "      <td>2.573583</td>\n",
       "      <td>-0.702792</td>\n",
       "      <td>0.567768</td>\n",
       "      <td>0.323955</td>\n",
       "      <td>0.247282</td>\n",
       "      <td>-0.254347</td>\n",
       "      <td>-0.153923</td>\n",
       "      <td>0.441078</td>\n",
       "      <td>0.206683</td>\n",
       "    </tr>\n",
       "    <tr>\n",
       "      <th>2</th>\n",
       "      <td>-24.488964</td>\n",
       "      <td>-0.222785</td>\n",
       "      <td>-9.119651</td>\n",
       "      <td>0.396847</td>\n",
       "      <td>0.356996</td>\n",
       "      <td>-0.482843</td>\n",
       "      <td>0.631301</td>\n",
       "      <td>-0.421774</td>\n",
       "      <td>-0.741057</td>\n",
       "      <td>-0.093026</td>\n",
       "      <td>-0.065602</td>\n",
       "      <td>-0.300422</td>\n",
       "      <td>-0.244932</td>\n",
       "    </tr>\n",
       "    <tr>\n",
       "      <th>3</th>\n",
       "      <td>-28.669926</td>\n",
       "      <td>-6.799088</td>\n",
       "      <td>8.198834</td>\n",
       "      <td>0.100304</td>\n",
       "      <td>0.025828</td>\n",
       "      <td>-0.694748</td>\n",
       "      <td>0.118750</td>\n",
       "      <td>0.334467</td>\n",
       "      <td>0.486168</td>\n",
       "      <td>-0.271704</td>\n",
       "      <td>-0.184502</td>\n",
       "      <td>-0.140639</td>\n",
       "      <td>0.008514</td>\n",
       "    </tr>\n",
       "    <tr>\n",
       "      <th>4</th>\n",
       "      <td>-13.825622</td>\n",
       "      <td>-8.741446</td>\n",
       "      <td>6.704065</td>\n",
       "      <td>0.167250</td>\n",
       "      <td>-0.930977</td>\n",
       "      <td>-1.103685</td>\n",
       "      <td>0.413327</td>\n",
       "      <td>0.445588</td>\n",
       "      <td>-0.206939</td>\n",
       "      <td>0.782482</td>\n",
       "      <td>-0.302792</td>\n",
       "      <td>-0.240148</td>\n",
       "      <td>0.341397</td>\n",
       "    </tr>\n",
       "    <tr>\n",
       "      <th>...</th>\n",
       "      <td>...</td>\n",
       "      <td>...</td>\n",
       "      <td>...</td>\n",
       "      <td>...</td>\n",
       "      <td>...</td>\n",
       "      <td>...</td>\n",
       "      <td>...</td>\n",
       "      <td>...</td>\n",
       "      <td>...</td>\n",
       "      <td>...</td>\n",
       "      <td>...</td>\n",
       "      <td>...</td>\n",
       "      <td>...</td>\n",
       "    </tr>\n",
       "    <tr>\n",
       "      <th>297</th>\n",
       "      <td>27.415875</td>\n",
       "      <td>5.221385</td>\n",
       "      <td>-3.466355</td>\n",
       "      <td>-0.752770</td>\n",
       "      <td>-1.316859</td>\n",
       "      <td>-0.693455</td>\n",
       "      <td>-0.690758</td>\n",
       "      <td>0.558949</td>\n",
       "      <td>-0.435959</td>\n",
       "      <td>0.651092</td>\n",
       "      <td>0.442603</td>\n",
       "      <td>0.145149</td>\n",
       "      <td>-0.100630</td>\n",
       "    </tr>\n",
       "    <tr>\n",
       "      <th>298</th>\n",
       "      <td>13.098262</td>\n",
       "      <td>-24.714687</td>\n",
       "      <td>-8.193215</td>\n",
       "      <td>-1.121011</td>\n",
       "      <td>1.976047</td>\n",
       "      <td>0.445531</td>\n",
       "      <td>-1.105021</td>\n",
       "      <td>0.278533</td>\n",
       "      <td>0.072390</td>\n",
       "      <td>-0.075029</td>\n",
       "      <td>0.722038</td>\n",
       "      <td>-0.025084</td>\n",
       "      <td>0.189404</td>\n",
       "    </tr>\n",
       "    <tr>\n",
       "      <th>299</th>\n",
       "      <td>12.390783</td>\n",
       "      <td>13.416774</td>\n",
       "      <td>9.477974</td>\n",
       "      <td>2.398156</td>\n",
       "      <td>0.539170</td>\n",
       "      <td>0.039397</td>\n",
       "      <td>-0.026057</td>\n",
       "      <td>0.736161</td>\n",
       "      <td>0.076051</td>\n",
       "      <td>-0.726029</td>\n",
       "      <td>-0.017751</td>\n",
       "      <td>-0.031489</td>\n",
       "      <td>-0.241718</td>\n",
       "    </tr>\n",
       "    <tr>\n",
       "      <th>300</th>\n",
       "      <td>34.160215</td>\n",
       "      <td>-5.659872</td>\n",
       "      <td>-2.957668</td>\n",
       "      <td>0.247368</td>\n",
       "      <td>-0.633434</td>\n",
       "      <td>0.041339</td>\n",
       "      <td>-0.663161</td>\n",
       "      <td>0.483480</td>\n",
       "      <td>0.267449</td>\n",
       "      <td>0.197499</td>\n",
       "      <td>-0.040284</td>\n",
       "      <td>0.159654</td>\n",
       "      <td>-0.429787</td>\n",
       "    </tr>\n",
       "    <tr>\n",
       "      <th>301</th>\n",
       "      <td>-23.477607</td>\n",
       "      <td>2.580135</td>\n",
       "      <td>6.744440</td>\n",
       "      <td>-0.005961</td>\n",
       "      <td>-0.697390</td>\n",
       "      <td>0.418344</td>\n",
       "      <td>0.309136</td>\n",
       "      <td>-0.492225</td>\n",
       "      <td>-0.381104</td>\n",
       "      <td>0.248793</td>\n",
       "      <td>0.880857</td>\n",
       "      <td>0.274177</td>\n",
       "      <td>-0.138514</td>\n",
       "    </tr>\n",
       "  </tbody>\n",
       "</table>\n",
       "<p>302 rows × 13 columns</p>\n",
       "</div>"
      ],
      "text/plain": [
       "            0          1          2         3         4         5         6   \\\n",
       "0     2.699166  14.861935   5.897864 -0.901321  2.368162 -0.546763  0.890043   \n",
       "1   -39.844319   1.259915 -10.542659  1.862781  2.573583 -0.702792  0.567768   \n",
       "2   -24.488964  -0.222785  -9.119651  0.396847  0.356996 -0.482843  0.631301   \n",
       "3   -28.669926  -6.799088   8.198834  0.100304  0.025828 -0.694748  0.118750   \n",
       "4   -13.825622  -8.741446   6.704065  0.167250 -0.930977 -1.103685  0.413327   \n",
       "..         ...        ...        ...       ...       ...       ...       ...   \n",
       "297  27.415875   5.221385  -3.466355 -0.752770 -1.316859 -0.693455 -0.690758   \n",
       "298  13.098262 -24.714687  -8.193215 -1.121011  1.976047  0.445531 -1.105021   \n",
       "299  12.390783  13.416774   9.477974  2.398156  0.539170  0.039397 -0.026057   \n",
       "300  34.160215  -5.659872  -2.957668  0.247368 -0.633434  0.041339 -0.663161   \n",
       "301 -23.477607   2.580135   6.744440 -0.005961 -0.697390  0.418344  0.309136   \n",
       "\n",
       "           7         8         9         10        11        12  \n",
       "0   -0.763041  0.653250 -0.169109 -0.062468  0.465300  0.073507  \n",
       "1    0.323955  0.247282 -0.254347 -0.153923  0.441078  0.206683  \n",
       "2   -0.421774 -0.741057 -0.093026 -0.065602 -0.300422 -0.244932  \n",
       "3    0.334467  0.486168 -0.271704 -0.184502 -0.140639  0.008514  \n",
       "4    0.445588 -0.206939  0.782482 -0.302792 -0.240148  0.341397  \n",
       "..        ...       ...       ...       ...       ...       ...  \n",
       "297  0.558949 -0.435959  0.651092  0.442603  0.145149 -0.100630  \n",
       "298  0.278533  0.072390 -0.075029  0.722038 -0.025084  0.189404  \n",
       "299  0.736161  0.076051 -0.726029 -0.017751 -0.031489 -0.241718  \n",
       "300  0.483480  0.267449  0.197499 -0.040284  0.159654 -0.429787  \n",
       "301 -0.492225 -0.381104  0.248793  0.880857  0.274177 -0.138514  \n",
       "\n",
       "[302 rows x 13 columns]"
      ]
     },
     "execution_count": 66,
     "metadata": {},
     "output_type": "execute_result"
    }
   ],
   "source": [
    "data"
   ]
  },
  {
   "cell_type": "code",
   "execution_count": 67,
   "metadata": {},
   "outputs": [],
   "source": [
    "data.columns = 'comp0', 'comp1', 'comp2', 'comp3', 'comp4', 'comp5', 'comp6', 'comp7', 'comp8', 'comp9', 'comp10', 'comp11', 'comp12'"
   ]
  },
  {
   "cell_type": "code",
   "execution_count": 68,
   "metadata": {},
   "outputs": [
    {
     "data": {
      "text/html": [
       "<div>\n",
       "<style scoped>\n",
       "    .dataframe tbody tr th:only-of-type {\n",
       "        vertical-align: middle;\n",
       "    }\n",
       "\n",
       "    .dataframe tbody tr th {\n",
       "        vertical-align: top;\n",
       "    }\n",
       "\n",
       "    .dataframe thead th {\n",
       "        text-align: right;\n",
       "    }\n",
       "</style>\n",
       "<table border=\"1\" class=\"dataframe\">\n",
       "  <thead>\n",
       "    <tr style=\"text-align: right;\">\n",
       "      <th></th>\n",
       "      <th>comp0</th>\n",
       "      <th>comp1</th>\n",
       "      <th>comp2</th>\n",
       "      <th>comp3</th>\n",
       "      <th>comp4</th>\n",
       "      <th>comp5</th>\n",
       "      <th>comp6</th>\n",
       "      <th>comp7</th>\n",
       "      <th>comp8</th>\n",
       "      <th>comp9</th>\n",
       "      <th>comp10</th>\n",
       "      <th>comp11</th>\n",
       "      <th>comp12</th>\n",
       "    </tr>\n",
       "  </thead>\n",
       "  <tbody>\n",
       "    <tr>\n",
       "      <th>0</th>\n",
       "      <td>2.699166</td>\n",
       "      <td>14.861935</td>\n",
       "      <td>5.897864</td>\n",
       "      <td>-0.901321</td>\n",
       "      <td>2.368162</td>\n",
       "      <td>-0.546763</td>\n",
       "      <td>0.890043</td>\n",
       "      <td>-0.763041</td>\n",
       "      <td>0.653250</td>\n",
       "      <td>-0.169109</td>\n",
       "      <td>-0.062468</td>\n",
       "      <td>0.465300</td>\n",
       "      <td>0.073507</td>\n",
       "    </tr>\n",
       "    <tr>\n",
       "      <th>1</th>\n",
       "      <td>-39.844319</td>\n",
       "      <td>1.259915</td>\n",
       "      <td>-10.542659</td>\n",
       "      <td>1.862781</td>\n",
       "      <td>2.573583</td>\n",
       "      <td>-0.702792</td>\n",
       "      <td>0.567768</td>\n",
       "      <td>0.323955</td>\n",
       "      <td>0.247282</td>\n",
       "      <td>-0.254347</td>\n",
       "      <td>-0.153923</td>\n",
       "      <td>0.441078</td>\n",
       "      <td>0.206683</td>\n",
       "    </tr>\n",
       "    <tr>\n",
       "      <th>2</th>\n",
       "      <td>-24.488964</td>\n",
       "      <td>-0.222785</td>\n",
       "      <td>-9.119651</td>\n",
       "      <td>0.396847</td>\n",
       "      <td>0.356996</td>\n",
       "      <td>-0.482843</td>\n",
       "      <td>0.631301</td>\n",
       "      <td>-0.421774</td>\n",
       "      <td>-0.741057</td>\n",
       "      <td>-0.093026</td>\n",
       "      <td>-0.065602</td>\n",
       "      <td>-0.300422</td>\n",
       "      <td>-0.244932</td>\n",
       "    </tr>\n",
       "    <tr>\n",
       "      <th>3</th>\n",
       "      <td>-28.669926</td>\n",
       "      <td>-6.799088</td>\n",
       "      <td>8.198834</td>\n",
       "      <td>0.100304</td>\n",
       "      <td>0.025828</td>\n",
       "      <td>-0.694748</td>\n",
       "      <td>0.118750</td>\n",
       "      <td>0.334467</td>\n",
       "      <td>0.486168</td>\n",
       "      <td>-0.271704</td>\n",
       "      <td>-0.184502</td>\n",
       "      <td>-0.140639</td>\n",
       "      <td>0.008514</td>\n",
       "    </tr>\n",
       "    <tr>\n",
       "      <th>4</th>\n",
       "      <td>-13.825622</td>\n",
       "      <td>-8.741446</td>\n",
       "      <td>6.704065</td>\n",
       "      <td>0.167250</td>\n",
       "      <td>-0.930977</td>\n",
       "      <td>-1.103685</td>\n",
       "      <td>0.413327</td>\n",
       "      <td>0.445588</td>\n",
       "      <td>-0.206939</td>\n",
       "      <td>0.782482</td>\n",
       "      <td>-0.302792</td>\n",
       "      <td>-0.240148</td>\n",
       "      <td>0.341397</td>\n",
       "    </tr>\n",
       "    <tr>\n",
       "      <th>...</th>\n",
       "      <td>...</td>\n",
       "      <td>...</td>\n",
       "      <td>...</td>\n",
       "      <td>...</td>\n",
       "      <td>...</td>\n",
       "      <td>...</td>\n",
       "      <td>...</td>\n",
       "      <td>...</td>\n",
       "      <td>...</td>\n",
       "      <td>...</td>\n",
       "      <td>...</td>\n",
       "      <td>...</td>\n",
       "      <td>...</td>\n",
       "    </tr>\n",
       "    <tr>\n",
       "      <th>297</th>\n",
       "      <td>27.415875</td>\n",
       "      <td>5.221385</td>\n",
       "      <td>-3.466355</td>\n",
       "      <td>-0.752770</td>\n",
       "      <td>-1.316859</td>\n",
       "      <td>-0.693455</td>\n",
       "      <td>-0.690758</td>\n",
       "      <td>0.558949</td>\n",
       "      <td>-0.435959</td>\n",
       "      <td>0.651092</td>\n",
       "      <td>0.442603</td>\n",
       "      <td>0.145149</td>\n",
       "      <td>-0.100630</td>\n",
       "    </tr>\n",
       "    <tr>\n",
       "      <th>298</th>\n",
       "      <td>13.098262</td>\n",
       "      <td>-24.714687</td>\n",
       "      <td>-8.193215</td>\n",
       "      <td>-1.121011</td>\n",
       "      <td>1.976047</td>\n",
       "      <td>0.445531</td>\n",
       "      <td>-1.105021</td>\n",
       "      <td>0.278533</td>\n",
       "      <td>0.072390</td>\n",
       "      <td>-0.075029</td>\n",
       "      <td>0.722038</td>\n",
       "      <td>-0.025084</td>\n",
       "      <td>0.189404</td>\n",
       "    </tr>\n",
       "    <tr>\n",
       "      <th>299</th>\n",
       "      <td>12.390783</td>\n",
       "      <td>13.416774</td>\n",
       "      <td>9.477974</td>\n",
       "      <td>2.398156</td>\n",
       "      <td>0.539170</td>\n",
       "      <td>0.039397</td>\n",
       "      <td>-0.026057</td>\n",
       "      <td>0.736161</td>\n",
       "      <td>0.076051</td>\n",
       "      <td>-0.726029</td>\n",
       "      <td>-0.017751</td>\n",
       "      <td>-0.031489</td>\n",
       "      <td>-0.241718</td>\n",
       "    </tr>\n",
       "    <tr>\n",
       "      <th>300</th>\n",
       "      <td>34.160215</td>\n",
       "      <td>-5.659872</td>\n",
       "      <td>-2.957668</td>\n",
       "      <td>0.247368</td>\n",
       "      <td>-0.633434</td>\n",
       "      <td>0.041339</td>\n",
       "      <td>-0.663161</td>\n",
       "      <td>0.483480</td>\n",
       "      <td>0.267449</td>\n",
       "      <td>0.197499</td>\n",
       "      <td>-0.040284</td>\n",
       "      <td>0.159654</td>\n",
       "      <td>-0.429787</td>\n",
       "    </tr>\n",
       "    <tr>\n",
       "      <th>301</th>\n",
       "      <td>-23.477607</td>\n",
       "      <td>2.580135</td>\n",
       "      <td>6.744440</td>\n",
       "      <td>-0.005961</td>\n",
       "      <td>-0.697390</td>\n",
       "      <td>0.418344</td>\n",
       "      <td>0.309136</td>\n",
       "      <td>-0.492225</td>\n",
       "      <td>-0.381104</td>\n",
       "      <td>0.248793</td>\n",
       "      <td>0.880857</td>\n",
       "      <td>0.274177</td>\n",
       "      <td>-0.138514</td>\n",
       "    </tr>\n",
       "  </tbody>\n",
       "</table>\n",
       "<p>302 rows × 13 columns</p>\n",
       "</div>"
      ],
      "text/plain": [
       "         comp0      comp1      comp2     comp3     comp4     comp5     comp6  \\\n",
       "0     2.699166  14.861935   5.897864 -0.901321  2.368162 -0.546763  0.890043   \n",
       "1   -39.844319   1.259915 -10.542659  1.862781  2.573583 -0.702792  0.567768   \n",
       "2   -24.488964  -0.222785  -9.119651  0.396847  0.356996 -0.482843  0.631301   \n",
       "3   -28.669926  -6.799088   8.198834  0.100304  0.025828 -0.694748  0.118750   \n",
       "4   -13.825622  -8.741446   6.704065  0.167250 -0.930977 -1.103685  0.413327   \n",
       "..         ...        ...        ...       ...       ...       ...       ...   \n",
       "297  27.415875   5.221385  -3.466355 -0.752770 -1.316859 -0.693455 -0.690758   \n",
       "298  13.098262 -24.714687  -8.193215 -1.121011  1.976047  0.445531 -1.105021   \n",
       "299  12.390783  13.416774   9.477974  2.398156  0.539170  0.039397 -0.026057   \n",
       "300  34.160215  -5.659872  -2.957668  0.247368 -0.633434  0.041339 -0.663161   \n",
       "301 -23.477607   2.580135   6.744440 -0.005961 -0.697390  0.418344  0.309136   \n",
       "\n",
       "        comp7     comp8     comp9    comp10    comp11    comp12  \n",
       "0   -0.763041  0.653250 -0.169109 -0.062468  0.465300  0.073507  \n",
       "1    0.323955  0.247282 -0.254347 -0.153923  0.441078  0.206683  \n",
       "2   -0.421774 -0.741057 -0.093026 -0.065602 -0.300422 -0.244932  \n",
       "3    0.334467  0.486168 -0.271704 -0.184502 -0.140639  0.008514  \n",
       "4    0.445588 -0.206939  0.782482 -0.302792 -0.240148  0.341397  \n",
       "..        ...       ...       ...       ...       ...       ...  \n",
       "297  0.558949 -0.435959  0.651092  0.442603  0.145149 -0.100630  \n",
       "298  0.278533  0.072390 -0.075029  0.722038 -0.025084  0.189404  \n",
       "299  0.736161  0.076051 -0.726029 -0.017751 -0.031489 -0.241718  \n",
       "300  0.483480  0.267449  0.197499 -0.040284  0.159654 -0.429787  \n",
       "301 -0.492225 -0.381104  0.248793  0.880857  0.274177 -0.138514  \n",
       "\n",
       "[302 rows x 13 columns]"
      ]
     },
     "execution_count": 68,
     "metadata": {},
     "output_type": "execute_result"
    }
   ],
   "source": [
    "data"
   ]
  },
  {
   "cell_type": "code",
   "execution_count": 89,
   "metadata": {},
   "outputs": [],
   "source": [
    "H_data = pd.concat([df.age, data.iloc[:,0:3]], axis=1)"
   ]
  },
  {
   "cell_type": "code",
   "execution_count": 90,
   "metadata": {},
   "outputs": [
    {
     "data": {
      "text/html": [
       "<div>\n",
       "<style scoped>\n",
       "    .dataframe tbody tr th:only-of-type {\n",
       "        vertical-align: middle;\n",
       "    }\n",
       "\n",
       "    .dataframe tbody tr th {\n",
       "        vertical-align: top;\n",
       "    }\n",
       "\n",
       "    .dataframe thead th {\n",
       "        text-align: right;\n",
       "    }\n",
       "</style>\n",
       "<table border=\"1\" class=\"dataframe\">\n",
       "  <thead>\n",
       "    <tr style=\"text-align: right;\">\n",
       "      <th></th>\n",
       "      <th>age</th>\n",
       "      <th>comp0</th>\n",
       "      <th>comp1</th>\n",
       "      <th>comp2</th>\n",
       "    </tr>\n",
       "  </thead>\n",
       "  <tbody>\n",
       "    <tr>\n",
       "      <th>0</th>\n",
       "      <td>63.0</td>\n",
       "      <td>2.699166</td>\n",
       "      <td>14.861935</td>\n",
       "      <td>5.897864</td>\n",
       "    </tr>\n",
       "    <tr>\n",
       "      <th>1</th>\n",
       "      <td>37.0</td>\n",
       "      <td>-39.844319</td>\n",
       "      <td>1.259915</td>\n",
       "      <td>-10.542659</td>\n",
       "    </tr>\n",
       "    <tr>\n",
       "      <th>2</th>\n",
       "      <td>41.0</td>\n",
       "      <td>-24.488964</td>\n",
       "      <td>-0.222785</td>\n",
       "      <td>-9.119651</td>\n",
       "    </tr>\n",
       "    <tr>\n",
       "      <th>3</th>\n",
       "      <td>56.0</td>\n",
       "      <td>-28.669926</td>\n",
       "      <td>-6.799088</td>\n",
       "      <td>8.198834</td>\n",
       "    </tr>\n",
       "    <tr>\n",
       "      <th>4</th>\n",
       "      <td>57.0</td>\n",
       "      <td>-13.825622</td>\n",
       "      <td>-8.741446</td>\n",
       "      <td>6.704065</td>\n",
       "    </tr>\n",
       "    <tr>\n",
       "      <th>...</th>\n",
       "      <td>...</td>\n",
       "      <td>...</td>\n",
       "      <td>...</td>\n",
       "      <td>...</td>\n",
       "    </tr>\n",
       "    <tr>\n",
       "      <th>299</th>\n",
       "      <td>45.0</td>\n",
       "      <td>12.390783</td>\n",
       "      <td>13.416774</td>\n",
       "      <td>9.477974</td>\n",
       "    </tr>\n",
       "    <tr>\n",
       "      <th>300</th>\n",
       "      <td>68.0</td>\n",
       "      <td>34.160215</td>\n",
       "      <td>-5.659872</td>\n",
       "      <td>-2.957668</td>\n",
       "    </tr>\n",
       "    <tr>\n",
       "      <th>301</th>\n",
       "      <td>57.0</td>\n",
       "      <td>-23.477607</td>\n",
       "      <td>2.580135</td>\n",
       "      <td>6.744440</td>\n",
       "    </tr>\n",
       "    <tr>\n",
       "      <th>302</th>\n",
       "      <td>57.0</td>\n",
       "      <td>NaN</td>\n",
       "      <td>NaN</td>\n",
       "      <td>NaN</td>\n",
       "    </tr>\n",
       "    <tr>\n",
       "      <th>164</th>\n",
       "      <td>NaN</td>\n",
       "      <td>46.146934</td>\n",
       "      <td>24.278065</td>\n",
       "      <td>0.222990</td>\n",
       "    </tr>\n",
       "  </tbody>\n",
       "</table>\n",
       "<p>303 rows × 4 columns</p>\n",
       "</div>"
      ],
      "text/plain": [
       "      age      comp0      comp1      comp2\n",
       "0    63.0   2.699166  14.861935   5.897864\n",
       "1    37.0 -39.844319   1.259915 -10.542659\n",
       "2    41.0 -24.488964  -0.222785  -9.119651\n",
       "3    56.0 -28.669926  -6.799088   8.198834\n",
       "4    57.0 -13.825622  -8.741446   6.704065\n",
       "..    ...        ...        ...        ...\n",
       "299  45.0  12.390783  13.416774   9.477974\n",
       "300  68.0  34.160215  -5.659872  -2.957668\n",
       "301  57.0 -23.477607   2.580135   6.744440\n",
       "302  57.0        NaN        NaN        NaN\n",
       "164   NaN  46.146934  24.278065   0.222990\n",
       "\n",
       "[303 rows x 4 columns]"
      ]
     },
     "execution_count": 90,
     "metadata": {},
     "output_type": "execute_result"
    }
   ],
   "source": [
    "H_data"
   ]
  },
  {
   "cell_type": "code",
   "execution_count": 91,
   "metadata": {},
   "outputs": [
    {
     "data": {
      "text/plain": [
       "age      1\n",
       "comp0    1\n",
       "comp1    1\n",
       "comp2    1\n",
       "dtype: int64"
      ]
     },
     "execution_count": 91,
     "metadata": {},
     "output_type": "execute_result"
    }
   ],
   "source": [
    "H_data.isnull().sum()"
   ]
  },
  {
   "cell_type": "code",
   "execution_count": 92,
   "metadata": {},
   "outputs": [],
   "source": [
    "H1 = H_data.dropna()"
   ]
  },
  {
   "cell_type": "code",
   "execution_count": 93,
   "metadata": {},
   "outputs": [
    {
     "data": {
      "text/html": [
       "<div>\n",
       "<style scoped>\n",
       "    .dataframe tbody tr th:only-of-type {\n",
       "        vertical-align: middle;\n",
       "    }\n",
       "\n",
       "    .dataframe tbody tr th {\n",
       "        vertical-align: top;\n",
       "    }\n",
       "\n",
       "    .dataframe thead th {\n",
       "        text-align: right;\n",
       "    }\n",
       "</style>\n",
       "<table border=\"1\" class=\"dataframe\">\n",
       "  <thead>\n",
       "    <tr style=\"text-align: right;\">\n",
       "      <th></th>\n",
       "      <th>age</th>\n",
       "      <th>comp0</th>\n",
       "      <th>comp1</th>\n",
       "      <th>comp2</th>\n",
       "    </tr>\n",
       "  </thead>\n",
       "  <tbody>\n",
       "    <tr>\n",
       "      <th>0</th>\n",
       "      <td>63.0</td>\n",
       "      <td>2.699166</td>\n",
       "      <td>14.861935</td>\n",
       "      <td>5.897864</td>\n",
       "    </tr>\n",
       "    <tr>\n",
       "      <th>1</th>\n",
       "      <td>37.0</td>\n",
       "      <td>-39.844319</td>\n",
       "      <td>1.259915</td>\n",
       "      <td>-10.542659</td>\n",
       "    </tr>\n",
       "    <tr>\n",
       "      <th>2</th>\n",
       "      <td>41.0</td>\n",
       "      <td>-24.488964</td>\n",
       "      <td>-0.222785</td>\n",
       "      <td>-9.119651</td>\n",
       "    </tr>\n",
       "    <tr>\n",
       "      <th>3</th>\n",
       "      <td>56.0</td>\n",
       "      <td>-28.669926</td>\n",
       "      <td>-6.799088</td>\n",
       "      <td>8.198834</td>\n",
       "    </tr>\n",
       "    <tr>\n",
       "      <th>4</th>\n",
       "      <td>57.0</td>\n",
       "      <td>-13.825622</td>\n",
       "      <td>-8.741446</td>\n",
       "      <td>6.704065</td>\n",
       "    </tr>\n",
       "    <tr>\n",
       "      <th>...</th>\n",
       "      <td>...</td>\n",
       "      <td>...</td>\n",
       "      <td>...</td>\n",
       "      <td>...</td>\n",
       "    </tr>\n",
       "    <tr>\n",
       "      <th>297</th>\n",
       "      <td>59.0</td>\n",
       "      <td>27.415875</td>\n",
       "      <td>5.221385</td>\n",
       "      <td>-3.466355</td>\n",
       "    </tr>\n",
       "    <tr>\n",
       "      <th>298</th>\n",
       "      <td>57.0</td>\n",
       "      <td>13.098262</td>\n",
       "      <td>-24.714687</td>\n",
       "      <td>-8.193215</td>\n",
       "    </tr>\n",
       "    <tr>\n",
       "      <th>299</th>\n",
       "      <td>45.0</td>\n",
       "      <td>12.390783</td>\n",
       "      <td>13.416774</td>\n",
       "      <td>9.477974</td>\n",
       "    </tr>\n",
       "    <tr>\n",
       "      <th>300</th>\n",
       "      <td>68.0</td>\n",
       "      <td>34.160215</td>\n",
       "      <td>-5.659872</td>\n",
       "      <td>-2.957668</td>\n",
       "    </tr>\n",
       "    <tr>\n",
       "      <th>301</th>\n",
       "      <td>57.0</td>\n",
       "      <td>-23.477607</td>\n",
       "      <td>2.580135</td>\n",
       "      <td>6.744440</td>\n",
       "    </tr>\n",
       "  </tbody>\n",
       "</table>\n",
       "<p>301 rows × 4 columns</p>\n",
       "</div>"
      ],
      "text/plain": [
       "      age      comp0      comp1      comp2\n",
       "0    63.0   2.699166  14.861935   5.897864\n",
       "1    37.0 -39.844319   1.259915 -10.542659\n",
       "2    41.0 -24.488964  -0.222785  -9.119651\n",
       "3    56.0 -28.669926  -6.799088   8.198834\n",
       "4    57.0 -13.825622  -8.741446   6.704065\n",
       "..    ...        ...        ...        ...\n",
       "297  59.0  27.415875   5.221385  -3.466355\n",
       "298  57.0  13.098262 -24.714687  -8.193215\n",
       "299  45.0  12.390783  13.416774   9.477974\n",
       "300  68.0  34.160215  -5.659872  -2.957668\n",
       "301  57.0 -23.477607   2.580135   6.744440\n",
       "\n",
       "[301 rows x 4 columns]"
      ]
     },
     "execution_count": 93,
     "metadata": {},
     "output_type": "execute_result"
    }
   ],
   "source": [
    "H1"
   ]
  },
  {
   "cell_type": "code",
   "execution_count": 94,
   "metadata": {},
   "outputs": [
    {
     "data": {
      "text/plain": [
       "<matplotlib.axes._subplots.AxesSubplot at 0x7f8fc47fb1c0>"
      ]
     },
     "execution_count": 94,
     "metadata": {},
     "output_type": "execute_result"
    },
    {
     "data": {
      "image/png": "[encoded data removed]",
      "text/plain": [
       "<Figure size 864x576 with 1 Axes>"
      ]
     },
     "metadata": {
      "needs_background": "light"
     },
     "output_type": "display_data"
    }
   ],
   "source": [
    "H1.plot(x='comp0', y='comp1', kind='scatter',figsize=(12,8))"
   ]
  },
  {
   "cell_type": "code",
   "execution_count": 95,
   "metadata": {},
   "outputs": [],
   "source": [
    "H1.to_csv('New_H1.csv')"
   ]
  },
  {
   "cell_type": "code",
   "execution_count": null,
   "metadata": {},
   "outputs": [],
   "source": []
  }
 ],
 "metadata": {
  "kernelspec": {
   "display_name": "Python 3",
   "language": "python",
   "name": "python3"
  },
  "language_info": {
   "codemirror_mode": {
    "name": "ipython",
    "version": 3
   },
   "file_extension": ".py",
   "mimetype": "text/x-python",
   "name": "python",
   "nbconvert_exporter": "python",
   "pygments_lexer": "ipython3",
   "version": "3.8.3"
  }
 },
 "nbformat": 4,
 "nbformat_minor": 4
}
